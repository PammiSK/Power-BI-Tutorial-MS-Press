{
 "cells": [
  {
   "cell_type": "markdown",
   "id": "bd636318",
   "metadata": {},
   "source": [
    "Markdown report"
   ]
  },
  {
   "cell_type": "code",
   "execution_count": 3,
   "id": "b554e9a8",
   "metadata": {},
   "outputs": [
    {
     "name": "stdout",
     "output_type": "stream",
     "text": [
      "Elapsed time: 2.0943 seconds\n"
     ]
    },
    {
     "name": "stderr",
     "output_type": "stream",
     "text": [
      "C:\\Users\\HP\\AppData\\Local\\Temp\\ipykernel_13504\\1650280142.py:71: DeprecationWarning: DataFrameGroupBy.apply operated on the grouping columns. This behavior is deprecated, and in a future version of pandas the grouping columns will be excluded from the operation. Either pass `include_groups=False` to exclude the groupings or explicitly select the grouping columns after groupby to silence this warning.\n",
      "  .apply(lambda g: {\n"
     ]
    }
   ],
   "source": [
    "import time\n",
    "start = time.perf_counter()\n",
    "\n",
    "import re\n",
    "import pandas as pd\n",
    "\n",
    "\n",
    "# Precompile regexes\n",
    "date_re  = re.compile(r\"(\\d{2}/\\d{2}/\\d{4} \\d{1,2}:\\d{2} [AP]M)\")\n",
    "style_re = re.compile(r\"^(?:[0-9]{6}E?|SPK)\")\n",
    "soh_re   = re.compile(r\"^\\s{12}[A-Za-z]\")\n",
    "\n",
    "def department_from_style(code):\n",
    "    if code.startswith(\"1\"):\n",
    "        return \"Womenswear\"\n",
    "    if code.startswith(\"2\"):\n",
    "        return \"Menswear\"\n",
    "    if code.startswith(\"SPK\"):\n",
    "        return \"Kidswear\"\n",
    "    if code[0] in (\"5\", \"7\"):\n",
    "        return \"Accessories\"\n",
    "    return \"Others\"\n",
    "\n",
    "rows = []\n",
    "flag = False\n",
    "current = {}\n",
    "\n",
    "with open(\"MARKDOWN REPORT.txt\", encoding=\"utf-8\") as f:\n",
    "    for line in f:\n",
    "        line = line.rstrip(\"\\n\")\n",
    "        if line.startswith(\"Markdown:\"):\n",
    "            parts = line.split()\n",
    "            md_desc = parts[3]\n",
    "            flag = not md_desc.startswith((\"SB\", \"JG\", \"JAG\"))\n",
    "            if flag:\n",
    "                current = {\n",
    "                    \"markdown_id\": parts[1],\n",
    "                    \"markdown_description\": md_desc\n",
    "                }\n",
    "        elif flag and line.startswith(\"Effective\"):\n",
    "            current[\"date\"] = line.split()[2]\n",
    "        elif flag and style_re.match(line):\n",
    "            parts = [p.strip() for p in line.split(\"  \") if p.strip()]\n",
    "            code = parts[0]\n",
    "            current.update({\n",
    "                \"style_code\": code,\n",
    "                \"description\": parts[-1],\n",
    "                \"department\": department_from_style(code)\n",
    "            })\n",
    "        elif flag and soh_re.match(line):\n",
    "            parts = [p.strip() for p in line.split(\"  \") if p.strip()]\n",
    "            colour, soh, price = parts[0], int(parts[1]), float(parts[-1])\n",
    "            \n",
    "            rows.append({\n",
    "                **current,\n",
    "                \"colour\": colour,\n",
    "                \"soh\": soh,\n",
    "                \"price\": price\n",
    "            })\n",
    "        elif date_re.match(line):\n",
    "            ts = line.rsplit(\" \", 1)[0]\n",
    "            time_stamp = ts.replace(\"/\", \"-\").replace(\":\", \".\")\n",
    "\n",
    "# Build DataFrame once\n",
    "df = pd.DataFrame(rows)\n",
    "\n",
    "# Build price history dict per group\n",
    "hist = (\n",
    "    df\n",
    "    .groupby([\"style_code\", \"description\", \"colour\"])\n",
    "    .apply(lambda g: {\n",
    "        row.price: (row.date, row.markdown_description)\n",
    "        for _, row in g.iterrows()\n",
    "    })\n",
    "    .reset_index(name=\"price_history\")\n",
    ")\n",
    "\n",
    "# Select the lowest-price row in each group\n",
    "idx = df.groupby([\"style_code\", \"description\", \"colour\"])[\"price\"].idxmin()\n",
    "min_rows = df.loc[idx]\n",
    "\n",
    "# Merge history and sort\n",
    "deduped = (\n",
    "    min_rows\n",
    "    .merge(hist, on=[\"style_code\", \"description\", \"colour\"])\n",
    "    .sort_values([\"style_code\", \"colour\"])\n",
    ")\n",
    "\n",
    "deduped.to_csv(f\"Markdown Report.csv\", index=False)\n",
    "\n",
    "print(f\"Elapsed time: {time.perf_counter() - start:.4f} seconds\")\n"
   ]
  },
  {
   "cell_type": "markdown",
   "id": "428d2cad",
   "metadata": {},
   "source": [
    "Sales Performance Report w/o GST on Retail"
   ]
  },
  {
   "cell_type": "code",
   "execution_count": 2,
   "id": "6fc16597",
   "metadata": {},
   "outputs": [
    {
     "name": "stdout",
     "output_type": "stream",
     "text": [
      "Elapsed time: 0.011 seconds\n"
     ]
    }
   ],
   "source": [
    "import time\n",
    "start = time.perf_counter()\n",
    "\n",
    "import pandas as pd\n",
    "\n",
    "df_attributes = [\n",
    "    'sales_person',\n",
    "    'retail_$_incl_disc',\n",
    "    'discount',\n",
    "    'returns',\n",
    "    'net_$',\n",
    "    'avg_sale_units',\n",
    "    'avg_sale_$',\n",
    "    '%_store_total'\n",
    "]\n",
    "rows = []\n",
    "\n",
    "with open(\"SALES PERFORMANCE REPORT.txt\", encoding=\"utf-8\") as f:\n",
    "    for l in f:\n",
    "        line = l.rstrip(\"\\n\")\n",
    "        if not line.endswith(\"%\"):\n",
    "            continue\n",
    "\n",
    "        # split into tokens\n",
    "        data = line.split()\n",
    "\n",
    "        # skip any \"Total\" row by checking the first field\n",
    "        if data[0].startswith(\"Total\"):\n",
    "            continue\n",
    "\n",
    "        # if name has spaces, rejoin all except last 7 tokens\n",
    "        if len(data) != len(df_attributes):\n",
    "            name = \" \".join(data[:-7])\n",
    "            rest = data[-7:]\n",
    "            data = [name] + rest\n",
    "\n",
    "        rows.append(data)\n",
    "\n",
    "df = pd.DataFrame(rows,columns=df_attributes)\n",
    "\n",
    "float_attrs = ['retail_$_incl_disc', 'discount', 'returns', 'net_$', 'avg_sale_units', 'avg_sale_$', '%_store_total']\n",
    "\n",
    "for col in float_attrs:\n",
    "    s = df[col].astype(str).str.replace(',', '')\n",
    "    if col == '%_store_total':\n",
    "        s = s.str.rstrip('%')\n",
    "    df[col] = s.astype(float)\n",
    "\n",
    "# ensure string columns are of type str\n",
    "df['sales_person'] = df['sales_person'].astype(str)\n",
    "\n",
    "df.to_csv(f\"SPR wo GST - Retail.csv\", index=False)\n",
    "print(f\"Elapsed time: {time.perf_counter() - start:.3f} seconds\")\n"
   ]
  },
  {
   "cell_type": "markdown",
   "id": "409050b8",
   "metadata": {},
   "source": [
    "Best Sellers report"
   ]
  },
  {
   "cell_type": "code",
   "execution_count": 3,
   "id": "c3d7ec03",
   "metadata": {},
   "outputs": [
    {
     "name": "stdout",
     "output_type": "stream",
     "text": [
      "Elapsed time: 0.023 seconds\n"
     ]
    }
   ],
   "source": [
    "import time\n",
    "start = time.perf_counter()\n",
    "\n",
    "import re\n",
    "import pandas as pd\n",
    "\n",
    "price_re = re.compile(r\"\\.\\d{2}\\s*$\")\n",
    "\n",
    "df_attributes = ['style', 'colour', 'qty', 'avg_price', 'net_$']\n",
    "rows = []\n",
    "\n",
    "with open(\"BEST SELLERS REPORT BY QUANTITY.txt\", encoding=\"utf-8\") as f:\n",
    "# with open(\"06 BEST SELLERS REPORT BY VALUE.txt\", encoding=\"utf-8\") as f: # yields the same result\n",
    "    for line in f:\n",
    "        line = line.rstrip(\"\\n\")\n",
    "        if price_re.search(line):\n",
    "            data = line.split()\n",
    "            \n",
    "            if data[0].startswith(\"Total\") or data[0].startswith(\"Gross\"):\n",
    "                continue\n",
    "            \n",
    "            if len(data) != len(df_attributes):\n",
    "                name = \" \".join(data[1:-3]).title()\n",
    "                # print(data[-3:])\n",
    "                data = [data[0]] + [name] + data[-3:]\n",
    "            \n",
    "            rows.append(data)\n",
    "\n",
    "df = pd.DataFrame(rows,columns=df_attributes)\n",
    "            \n",
    "for col in df_attributes:\n",
    "    if col == 'qty':\n",
    "        df[col] = df[col].astype(int)\n",
    "    elif col == 'net_$' or col == 'avg_price':\n",
    "        s = df[col].astype(str).str.replace('$', '')\n",
    "        df[col] = s.astype(float)\n",
    "    elif col == 'style' or col == 'colour':\n",
    "        df[col] = df[col].astype('string')\n",
    "        \n",
    "# print(df.dtypes)\n",
    "df.to_csv(f\"Best Sellers report.csv\", index=False)\n",
    "print(f\"Elapsed time: {time.perf_counter() - start:.3f} seconds\")\n"
   ]
  },
  {
   "cell_type": "markdown",
   "id": "890b67ee",
   "metadata": {},
   "source": [
    "Daily Sales Summary Report"
   ]
  },
  {
   "cell_type": "code",
   "execution_count": 4,
   "id": "4c8de1b1",
   "metadata": {},
   "outputs": [
    {
     "name": "stderr",
     "output_type": "stream",
     "text": [
      "C:\\Users\\Siva\\AppData\\Local\\Temp\\ipykernel_18416\\3467995289.py:26: UserWarning: Could not infer format, so each element will be parsed individually, falling back to `dateutil`. To ensure parsing is consistent and as-expected, please specify a format.\n",
      "  df['date'] = pd.to_datetime(df['date'])\n"
     ]
    },
    {
     "name": "stdout",
     "output_type": "stream",
     "text": [
      "Elapsed time: 0.086 seconds\n"
     ]
    }
   ],
   "source": [
    "import time\n",
    "start = time.perf_counter()\n",
    "\n",
    "import re\n",
    "import pandas as pd\n",
    "\n",
    "price_re = re.compile(r\"\\.\\d{2}\\s*$\")\n",
    "df_attributes = ['day', 'date', 'gross', 'disc', 'net', 'ex_gst']\n",
    "rows = []\n",
    "\n",
    "with open(\"DAILY SALES SUMMARY REPORT.txt\", encoding=\"utf-8\") as f:\n",
    "    for line in f:\n",
    "        line = line.rstrip(\"\\n\")\n",
    "        if price_re.search(line):\n",
    "            data = line.split()\n",
    "            rows.append(data)\n",
    "\n",
    "df = pd.DataFrame(rows,columns=df_attributes)\n",
    "\n",
    "float_cols = ['gross', 'disc', 'net', 'ex_gst']\n",
    "for col in float_cols:\n",
    "    s = df[col].astype(str).str.replace(',', '')\n",
    "    df[col] = s.astype(float)\n",
    "    \n",
    "df['day'] = df['day'].astype('string')\n",
    "df['date'] = pd.to_datetime(df['date'])\n",
    "    \n",
    "df.to_csv(f\"Daily Sales Summary Report.csv\", index=False)\n",
    "print(f\"Elapsed time: {time.perf_counter() - start:.3f} seconds\")\n"
   ]
  },
  {
   "cell_type": "markdown",
   "id": "88de8fe3",
   "metadata": {},
   "source": [
    "Sales By Customer Report"
   ]
  },
  {
   "cell_type": "code",
   "execution_count": 5,
   "id": "51b77394",
   "metadata": {},
   "outputs": [
    {
     "name": "stdout",
     "output_type": "stream",
     "text": [
      "Elapsed time: 0.152 seconds\n"
     ]
    }
   ],
   "source": [
    "\n",
    "import time\n",
    "start = time.perf_counter()\n",
    "\n",
    "import re\n",
    "import pandas as pd\n",
    "\n",
    "price_re = re.compile(r\"\\.\\d{2}\\s*$\")\n",
    "\n",
    "curr_name = None\n",
    "curr_date = None\n",
    "df_attributes = ['customer', 'date', 'qty', 'sales_gst_inc', 'sales_gst_exc']\n",
    "rows = []\n",
    "\n",
    "\n",
    "with open(\"Sales By Customer Report.txt\", encoding=\"utf-8\") as f:\n",
    "    for line in f:\n",
    "        line = line.rstrip(\"\\n\")\n",
    "        if not line.strip() or line.startswith('Total'):\n",
    "            continue\n",
    "        \n",
    "        if price_re.search(line):\n",
    "            data = line.split()\n",
    "        \n",
    "            if len(data) > 4:\n",
    "                \n",
    "                curr_name = \" \".join(data[:-4])\n",
    "                name = curr_name.split(', ')\n",
    "                name.reverse()\n",
    "                curr_name = \" \".join(name).strip().title()\n",
    "                \n",
    "                curr_date = data[-4]\n",
    "                \n",
    "                data = [curr_name] + [curr_date] + data[-3:]\n",
    "                \n",
    "            elif len(data) == 4:\n",
    "                curr_date = data[0]\n",
    "                data = [curr_name] + [curr_date] + data[-3:]\n",
    "        \n",
    "            elif  len(data) == 3:\n",
    "                data = [curr_name] + [curr_date] + data\n",
    "        \n",
    "            else:\n",
    "                pass\n",
    "            \n",
    "            # print(data)\n",
    "            rows.append(data)\n",
    "                \n",
    "            \n",
    "df = pd.DataFrame(rows,columns=df_attributes)\n",
    "\n",
    "df['customer'] = df['customer'].astype('string')\n",
    "df['date'] = pd.to_datetime(df['date'], dayfirst=True)\n",
    "df['qty'] = df['qty'].astype(int)\n",
    "\n",
    "df['sales_gst_inc'] = (\n",
    "    df['sales_gst_inc']\n",
    "    .astype(str)\n",
    "    .str.replace(',','',regex=False)\n",
    "    .astype(float)\n",
    ")\n",
    "\n",
    "df['sales_gst_exc'] = (\n",
    "    df['sales_gst_exc']\n",
    "    .astype(str)\n",
    "    .str.replace(',','',regex=False)\n",
    "    .astype(float)\n",
    ")\n",
    "\n",
    "df = df.sort_values(by=['customer', 'date'], ascending=[True, True]).reset_index(drop=True)\n",
    "\n",
    "df.to_csv(f\"Sales by Customer Report.csv\", index=False)\n",
    "print(f\"Elapsed time: {time.perf_counter() - start:.3f} seconds\")\n"
   ]
  },
  {
   "cell_type": "markdown",
   "id": "10fe6baa",
   "metadata": {},
   "source": [
    "Sales By Sub Department Report"
   ]
  },
  {
   "cell_type": "code",
   "execution_count": 6,
   "id": "c0dd43ac",
   "metadata": {},
   "outputs": [
    {
     "name": "stdout",
     "output_type": "stream",
     "text": [
      "Elapsed time: 0.010 seconds\n"
     ]
    }
   ],
   "source": [
    "import time\n",
    "start = time.perf_counter()\n",
    "\n",
    "import pandas as pd\n",
    "\n",
    "# define column specifications: (start, end) positions\n",
    "colspecs = [\n",
    "    (0, 2),    # dept\n",
    "    (3, 4),    # sub_dept\n",
    "    (4, 29),   # combined type-description\n",
    "    (29, 36),  # quantity\n",
    "    (36, None) # gross_sale\n",
    "]\n",
    "\n",
    "# read the fixed-width file, skipping header and footer\n",
    "df = pd.read_fwf(\n",
    "    \"SALES BY SUB DEPARTMENT REPORT.txt\",\n",
    "    skiprows=6,\n",
    "    skipfooter=12,\n",
    "    colspecs=colspecs,\n",
    "    names=['dept','sub_dept','category','quantity','gross_sale'],\n",
    "    engine='python'\n",
    ")\n",
    "\n",
    "# split 'category' into 'type' and 'description'\n",
    "df[['type','description']] = (\n",
    "    df['category']\n",
    "      .str.split(r'-\\s*', n=1, expand=True)\n",
    ")\n",
    "\n",
    "# clean up whitespace\n",
    "for c in ['dept','sub_dept','type','description']:\n",
    "    df[c] = df[c].str.strip()\n",
    "\n",
    "# convert numeric columns\n",
    "df['quantity']   = df['quantity'].astype(int)\n",
    "df['gross_sale'] = (\n",
    "    df['gross_sale']\n",
    "      .str.replace(r'[\\$,]', '', regex=True)\n",
    "      .astype(float)\n",
    ")\n",
    "\n",
    "df = df[['dept','sub_dept','type','description','quantity','gross_sale']]\n",
    "df.to_csv(\"Sales By Sub Department Report.csv\", index=False)\n",
    "# print(df)\n",
    "print(f\"Elapsed time: {time.perf_counter() - start:.3f} seconds\")\n"
   ]
  },
  {
   "cell_type": "markdown",
   "id": "cc0cabc9",
   "metadata": {},
   "source": [
    "Stock Refill Report"
   ]
  },
  {
   "cell_type": "code",
   "execution_count": 7,
   "id": "5471a8a0",
   "metadata": {},
   "outputs": [
    {
     "name": "stdout",
     "output_type": "stream",
     "text": [
      "Elapsed time: 0.100 seconds\n"
     ]
    }
   ],
   "source": [
    "import time\n",
    "start = time.perf_counter()\n",
    "\n",
    "import pandas as pd\n",
    "\n",
    "# 1. Define where each column lives (start, end) in the text file:\n",
    "colspecs = [\n",
    "    (0, 11),   # product code\n",
    "    (11,22),   # colour\n",
    "    (22,39),   # name\n",
    "    (39,47),   # size\n",
    "    (47,53),   # sold\n",
    "    (53,None)  # soh\n",
    "]\n",
    "\n",
    "# 2. Read with read_fwf\n",
    "df = pd.read_fwf(\n",
    "    \"STOCK REFILL REPORT.txt\",\n",
    "    skiprows=7,      # drop title, date, header lines\n",
    "    skipfooter=4,    # drop the underscore + footer notes\n",
    "    colspecs=colspecs,\n",
    "    names=['product','colour','name','size','sold','soh'],\n",
    "    engine='python'\n",
    ")\n",
    "\n",
    "# 4. (Optional) strip any stray whitespace\n",
    "for c in ['product','colour','name']:\n",
    "    df[c] = df[c].str.strip()\n",
    "\n",
    "df.to_csv(\"Stock Refill Report.csv\", index=False)\n",
    "print(f\"Elapsed time: {time.perf_counter() - start:.3f} seconds\")\n"
   ]
  },
  {
   "cell_type": "markdown",
   "id": "f350fa4d",
   "metadata": {},
   "source": [
    "Tender Breakdown Detail Report"
   ]
  },
  {
   "cell_type": "code",
   "execution_count": 8,
   "id": "066523d5",
   "metadata": {},
   "outputs": [
    {
     "name": "stdout",
     "output_type": "stream",
     "text": [
      "Elapsed time: 0.230 seconds\n"
     ]
    },
    {
     "name": "stderr",
     "output_type": "stream",
     "text": [
      "C:\\Users\\Siva\\AppData\\Local\\Temp\\ipykernel_18416\\1301952153.py:38: UserWarning: Could not infer format, so each element will be parsed individually, falling back to `dateutil`. To ensure parsing is consistent and as-expected, please specify a format.\n",
      "  df['time'] = pd.to_datetime(df['time'], dayfirst=True)\n"
     ]
    }
   ],
   "source": [
    "import time as timer\n",
    "start = timer.perf_counter()\n",
    "\n",
    "import re\n",
    "import pandas as pd\n",
    "\n",
    "price_re = re.compile(r\"\\.\\d{2}\\s*$\")\n",
    "\n",
    "df_attributes = ['day', 'date', 'tender', 'docket_no', 'sales_rep', 'time', 'value']\n",
    "rows = []\n",
    "\n",
    "with open(\"TENDER BREAKDOWN DETAIL REPORT.txt\", encoding=\"utf-8\") as f:\n",
    "    for line in f:\n",
    "        line = line.rstrip(\"\\n\")\n",
    "        if \"day\" in line and \"Total\" not in line and \"Birthday\" not in line:\n",
    "            day, date = line.split()\n",
    "            # print(day,date)            \n",
    "        if \"Value\" in line:\n",
    "            tender = line[:17].strip()\n",
    "            # print(tender)\n",
    "        if price_re.search(line):\n",
    "            if \"Total\" not in line:\n",
    "                # print(line)\n",
    "                docket_no = line[:14].strip()\n",
    "                sales_rep = line[17:32].strip()\n",
    "                time = line[32:40].strip()\n",
    "                value = line[41:].strip()\n",
    "                # print(dt_stamp)\n",
    "                rows.append([day,date,tender,docket_no,sales_rep,time,value])\n",
    "                \n",
    "df = pd.DataFrame(rows,columns=df_attributes)\n",
    "df['value'] = (\n",
    "    df['value']\n",
    "    .astype(str)\n",
    "    .str.replace(',','',regex=False)\n",
    "    .astype(float)\n",
    ")\n",
    "df['time'] = pd.to_datetime(df['time'], dayfirst=True)\n",
    "df['date'] = pd.to_datetime(df['date'], dayfirst=True)\n",
    "str_cols = ['day','tender','docket_no','sales_rep']\n",
    "for col in str_cols:\n",
    "    df[col] = df[col].astype('string')\n",
    "# print(df.dtypes)\n",
    "\n",
    "df.to_csv(\"Tender Breakdown Report.csv\", index=False)\n",
    "\n",
    "print(f\"Elapsed time: {timer.perf_counter() - start:.3f} seconds\")\n"
   ]
  },
  {
   "cell_type": "markdown",
   "id": "ccbc69b8",
   "metadata": {},
   "source": [
    "Tender Breakdown Summary Report"
   ]
  },
  {
   "cell_type": "code",
   "execution_count": 9,
   "id": "ccb8c46c",
   "metadata": {},
   "outputs": [
    {
     "name": "stdout",
     "output_type": "stream",
     "text": [
      "Elapsed time: 0.041 seconds\n"
     ]
    }
   ],
   "source": [
    "import time\n",
    "start = time.perf_counter()\n",
    "\n",
    "import re\n",
    "import pandas as pd\n",
    "\n",
    "price_re = re.compile(r\"\\.\\d{2}\\s*$\")\n",
    "\n",
    "# day = None\n",
    "# date = None\n",
    "# tender = None\n",
    "\n",
    "df_attributes = ['day', 'date', 'tender', 'value']\n",
    "rows = []\n",
    "\n",
    "with open(\"TENDER BREAKDOWN SUMMARY REPORT.txt\", encoding=\"utf-8\") as f:\n",
    "    for line in f:\n",
    "        line = line.rstrip(\"\\n\")\n",
    "        if \"TOTAL BY TENDER\" in line:\n",
    "            break\n",
    "        if \"day\" in line and \"Total\" not in line and \"Birthday\" not in line:\n",
    "            day, date = line.split()\n",
    "        if price_re.search(line) and \"Total\" not in line:\n",
    "            tender = line[:-10].strip()\n",
    "            value = line[-10:].strip()\n",
    "            rows.append([day,date,tender,value])\n",
    "\n",
    "df = pd.DataFrame(rows,columns=df_attributes)\n",
    "df['value'] = (\n",
    "    df['value']\n",
    "    .astype(str)\n",
    "    .str.replace(',','',regex=False)\n",
    "    .astype(float)\n",
    ")\n",
    "df['date']  = pd.to_datetime(df['date'], dayfirst=True)\n",
    "str_cols = ['day', 'tender']\n",
    "for col in str_cols:\n",
    "    df[col] = df[col].astype('string')\n",
    "\n",
    "df.to_csv(\"Tender Breakdown Summary Report.csv\", index=False)\n",
    "print(f\"Elapsed time: {time.perf_counter() - start:.3f} seconds\")\n"
   ]
  }
 ],
 "metadata": {
  "kernelspec": {
   "display_name": "Python 3",
   "language": "python",
   "name": "python3"
  },
  "language_info": {
   "codemirror_mode": {
    "name": "ipython",
    "version": 3
   },
   "file_extension": ".py",
   "mimetype": "text/x-python",
   "name": "python",
   "nbconvert_exporter": "python",
   "pygments_lexer": "ipython3",
   "version": "3.12.2"
  }
 },
 "nbformat": 4,
 "nbformat_minor": 5
}
